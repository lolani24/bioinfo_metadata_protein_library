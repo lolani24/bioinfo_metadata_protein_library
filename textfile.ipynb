{
 "cells": [
  {
   "cell_type": "code",
   "execution_count": null,
   "metadata": {},
   "outputs": [],
   "source": [
    "import pandas as pd"
   ]
  },
  {
   "cell_type": "code",
   "execution_count": null,
   "metadata": {},
   "outputs": [],
   "source": [
    "import pandas as pd\n",
    "\n",
    "# Read the input file into a DataFrame, skipping the first 26 lines\n",
    "df = pd.read_csv('pfam_file.out', delim_whitespace=True, skiprows=26)\n",
    "\n",
    "# Convert the DataFrame to a CSV file\n",
    "df.to_csv('output_file.csv', index=False)\n",
    "\n",
    "df"
   ]
  },
  {
   "cell_type": "code",
   "execution_count": null,
   "metadata": {},
   "outputs": [],
   "source": [
    "def pfam_df(original, new): #original is the name of the of file and new is the name for csv file \n",
    "   \n",
    "    df = pd.read_csv(original, delim_whitespace=True, skiprows=26) \n",
    "\n",
    "    df.to_csv(new, index=False)\n",
    "    \n",
    "    return(df) #will return a dataframe and csv file will be saved in folder\n"
   ]
  }
 ],
 "metadata": {
  "kernelspec": {
   "display_name": "Python 3.11.0 64-bit",
   "language": "python",
   "name": "python3"
  },
  "language_info": {
   "codemirror_mode": {
    "name": "ipython",
    "version": 3
   },
   "file_extension": ".py",
   "mimetype": "text/x-python",
   "name": "python",
   "nbconvert_exporter": "python",
   "pygments_lexer": "ipython3",
   "version": "3.11.0"
  },
  "orig_nbformat": 4,
  "vscode": {
   "interpreter": {
    "hash": "aee8b7b246df8f9039afb4144a1f6fd8d2ca17a180786b69acc140d282b71a49"
   }
  }
 },
 "nbformat": 4,
 "nbformat_minor": 2
}
