{
 "cells": [
  {
   "cell_type": "code",
   "execution_count": 1,
   "metadata": {},
   "outputs": [],
   "source": [
    "import pandas as pd "
   ]
  },
  {
   "cell_type": "code",
   "execution_count": 3,
   "metadata": {},
   "outputs": [
    {
     "data": {
      "text/html": [
       "<div>\n",
       "<style scoped>\n",
       "    .dataframe tbody tr th:only-of-type {\n",
       "        vertical-align: middle;\n",
       "    }\n",
       "\n",
       "    .dataframe tbody tr th {\n",
       "        vertical-align: top;\n",
       "    }\n",
       "\n",
       "    .dataframe thead th {\n",
       "        text-align: right;\n",
       "    }\n",
       "</style>\n",
       "<table border=\"1\" class=\"dataframe\">\n",
       "  <thead>\n",
       "    <tr style=\"text-align: right;\">\n",
       "      <th></th>\n",
       "      <th>Query ID</th>\n",
       "      <th>#GO</th>\n",
       "      <th>GOs</th>\n",
       "      <th>GO Names</th>\n",
       "    </tr>\n",
       "  </thead>\n",
       "  <tbody>\n",
       "    <tr>\n",
       "      <th>0</th>\n",
       "      <td>ACD03849.1</td>\n",
       "      <td>9</td>\n",
       "      <td>F:GO:0003676; F:GO:0000166; F:GO:0005515; P:GO...</td>\n",
       "      <td>F:nucleic acid binding; P:DNA metabolic proces...</td>\n",
       "    </tr>\n",
       "    <tr>\n",
       "      <th>1</th>\n",
       "      <td>ACD03854.1</td>\n",
       "      <td>4</td>\n",
       "      <td>F:GO:0005515; C:GO:0005737; P:GO:0009628; F:GO...</td>\n",
       "      <td>P:response to abiotic stimulus; F:metal ion bi...</td>\n",
       "    </tr>\n",
       "    <tr>\n",
       "      <th>2</th>\n",
       "      <td>ACD03855.1</td>\n",
       "      <td>4</td>\n",
       "      <td>P:GO:0071840; F:GO:0016853; P:GO:0016070; C:GO...</td>\n",
       "      <td>P:cellular component organization or biogenesi...</td>\n",
       "    </tr>\n",
       "    <tr>\n",
       "      <th>3</th>\n",
       "      <td>ACD03856.1</td>\n",
       "      <td>8</td>\n",
       "      <td>P:GO:0009058; P:GO:0006807; P:GO:0042221; F:GO...</td>\n",
       "      <td>P:response to chemical; F:isomerase activity; ...</td>\n",
       "    </tr>\n",
       "    <tr>\n",
       "      <th>4</th>\n",
       "      <td>ACD03858.1</td>\n",
       "      <td>4</td>\n",
       "      <td>P:GO:0006950; F:GO:0016874; C:GO:0005737; P:GO...</td>\n",
       "      <td>P:DNA metabolic process; P:response to stress;...</td>\n",
       "    </tr>\n",
       "    <tr>\n",
       "      <th>...</th>\n",
       "      <td>...</td>\n",
       "      <td>...</td>\n",
       "      <td>...</td>\n",
       "      <td>...</td>\n",
       "    </tr>\n",
       "    <tr>\n",
       "      <th>518</th>\n",
       "      <td>ACD05958.1</td>\n",
       "      <td>8</td>\n",
       "      <td>F:GO:0051536; F:GO:0016740; P:GO:0009058; P:GO...</td>\n",
       "      <td>P:response to chemical; F:transferase activity...</td>\n",
       "    </tr>\n",
       "    <tr>\n",
       "      <th>519</th>\n",
       "      <td>ACD05968.1</td>\n",
       "      <td>5</td>\n",
       "      <td>F:GO:0005515; P:GO:0009058; P:GO:0065003; F:GO...</td>\n",
       "      <td>P:protein-containing complex assembly; F:prote...</td>\n",
       "    </tr>\n",
       "    <tr>\n",
       "      <th>520</th>\n",
       "      <td>ACD05976.1</td>\n",
       "      <td>5</td>\n",
       "      <td>P:GO:0006412; F:GO:0016874; P:GO:0016070; C:GO...</td>\n",
       "      <td>C:cytoplasm; P:RNA metabolic process; F:ligase...</td>\n",
       "    </tr>\n",
       "    <tr>\n",
       "      <th>521</th>\n",
       "      <td>ACD05984.1</td>\n",
       "      <td>8</td>\n",
       "      <td>F:GO:0000166; C:GO:0005575; F:GO:0005215; C:GO...</td>\n",
       "      <td>P:transport; C:cellular_component; C:cytoplasm...</td>\n",
       "    </tr>\n",
       "    <tr>\n",
       "      <th>522</th>\n",
       "      <td>ACD05985.1</td>\n",
       "      <td>7</td>\n",
       "      <td>P:GO:0016310; F:GO:0016597; F:GO:0016740; P:GO...</td>\n",
       "      <td>F:kinase activity; F:amino acid binding; F:tra...</td>\n",
       "    </tr>\n",
       "  </tbody>\n",
       "</table>\n",
       "<p>523 rows × 4 columns</p>\n",
       "</div>"
      ],
      "text/plain": [
       "       Query ID  #GO                                                GOs  \\\n",
       "0    ACD03849.1    9  F:GO:0003676; F:GO:0000166; F:GO:0005515; P:GO...   \n",
       "1    ACD03854.1    4  F:GO:0005515; C:GO:0005737; P:GO:0009628; F:GO...   \n",
       "2    ACD03855.1    4  P:GO:0071840; F:GO:0016853; P:GO:0016070; C:GO...   \n",
       "3    ACD03856.1    8  P:GO:0009058; P:GO:0006807; P:GO:0042221; F:GO...   \n",
       "4    ACD03858.1    4  P:GO:0006950; F:GO:0016874; C:GO:0005737; P:GO...   \n",
       "..          ...  ...                                                ...   \n",
       "518  ACD05958.1    8  F:GO:0051536; F:GO:0016740; P:GO:0009058; P:GO...   \n",
       "519  ACD05968.1    5  F:GO:0005515; P:GO:0009058; P:GO:0065003; F:GO...   \n",
       "520  ACD05976.1    5  P:GO:0006412; F:GO:0016874; P:GO:0016070; C:GO...   \n",
       "521  ACD05984.1    8  F:GO:0000166; C:GO:0005575; F:GO:0005215; C:GO...   \n",
       "522  ACD05985.1    7  P:GO:0016310; F:GO:0016597; F:GO:0016740; P:GO...   \n",
       "\n",
       "                                              GO Names  \n",
       "0    F:nucleic acid binding; P:DNA metabolic proces...  \n",
       "1    P:response to abiotic stimulus; F:metal ion bi...  \n",
       "2    P:cellular component organization or biogenesi...  \n",
       "3    P:response to chemical; F:isomerase activity; ...  \n",
       "4    P:DNA metabolic process; P:response to stress;...  \n",
       "..                                                 ...  \n",
       "518  P:response to chemical; F:transferase activity...  \n",
       "519  P:protein-containing complex assembly; F:prote...  \n",
       "520  C:cytoplasm; P:RNA metabolic process; F:ligase...  \n",
       "521  P:transport; C:cellular_component; C:cytoplasm...  \n",
       "522  F:kinase activity; F:amino acid binding; F:tra...  \n",
       "\n",
       "[523 rows x 4 columns]"
      ]
     },
     "execution_count": 3,
     "metadata": {},
     "output_type": "execute_result"
    }
   ],
   "source": [
    "df = pd.read_csv('../../../Desktop/genofax (UPDATED)/biobam results/amuc_eggnog.csv')\n",
    "df"
   ]
  },
  {
   "cell_type": "code",
   "execution_count": 4,
   "metadata": {},
   "outputs": [],
   "source": [
    "GO_Names = df['GO Names'].tolist()"
   ]
  },
  {
   "cell_type": "code",
   "execution_count": 8,
   "metadata": {},
   "outputs": [],
   "source": [
    "GOs = df['GOs'].tolist()"
   ]
  },
  {
   "cell_type": "code",
   "execution_count": 9,
   "metadata": {},
   "outputs": [],
   "source": [
    "GO_list = [i.split(\";\",1)[0] for i in GOs]"
   ]
  },
  {
   "cell_type": "code",
   "execution_count": 13,
   "metadata": {},
   "outputs": [],
   "source": [
    "GOs = []\n",
    "for x in GO_list:\n",
    "    GOs.append(x[2:])"
   ]
  },
  {
   "cell_type": "code",
   "execution_count": 23,
   "metadata": {},
   "outputs": [
    {
     "name": "stdout",
     "output_type": "stream",
     "text": [
      "<class 'pandas.core.frame.DataFrame'>\n",
      "RangeIndex: 523 entries, 0 to 522\n",
      "Data columns (total 1 columns):\n",
      " #   Column  Non-Null Count  Dtype \n",
      "---  ------  --------------  ----- \n",
      " 0   GOs     523 non-null    object\n",
      "dtypes: object(1)\n",
      "memory usage: 4.2+ KB\n"
     ]
    }
   ],
   "source": [
    "GO_df = pd.DataFrame(GOs, columns=['GOs'])\n",
    "GO_df.to_excel('GOs.xlsx')\n",
    "GO_df.info()"
   ]
  },
  {
   "cell_type": "code",
   "execution_count": 24,
   "metadata": {},
   "outputs": [],
   "source": [
    "GOs_nocopy = GO_df.copy()\n",
    "GOs_nocopy.drop_duplicates()\n",
    "GOs_nocopy.to_excel('GOs_noCopy.xlsx')"
   ]
  }
 ],
 "metadata": {
  "kernelspec": {
   "display_name": "Python 3.11.0 64-bit",
   "language": "python",
   "name": "python3"
  },
  "language_info": {
   "codemirror_mode": {
    "name": "ipython",
    "version": 3
   },
   "file_extension": ".py",
   "mimetype": "text/x-python",
   "name": "python",
   "nbconvert_exporter": "python",
   "pygments_lexer": "ipython3",
   "version": "3.11.0"
  },
  "orig_nbformat": 4,
  "vscode": {
   "interpreter": {
    "hash": "aee8b7b246df8f9039afb4144a1f6fd8d2ca17a180786b69acc140d282b71a49"
   }
  }
 },
 "nbformat": 4,
 "nbformat_minor": 2
}
