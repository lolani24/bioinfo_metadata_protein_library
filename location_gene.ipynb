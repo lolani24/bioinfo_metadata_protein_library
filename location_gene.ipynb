{
 "cells": [
  {
   "cell_type": "code",
   "execution_count": 11,
   "metadata": {},
   "outputs": [],
   "source": [
    "from Bio import Entrez\n",
    "import pandas as pd\n",
    "import xml.etree.ElementTree as ET\n",
    "import time"
   ]
  },
  {
   "cell_type": "code",
   "execution_count": 12,
   "metadata": {},
   "outputs": [],
   "source": [
    "Entrez.email = \"leilaniarvizu4@gmail.com\"\n",
    "Entrez.api_key = 'c3059affa8a562390b817e380d1f6bc8b308'"
   ]
  },
  {
   "cell_type": "code",
   "execution_count": null,
   "metadata": {},
   "outputs": [],
   "source": [
    "# Biosample ID\n",
    "biosample_id = \"biosample id\"\n",
    "\n",
    "# Fetch the Biosample data in XML format\n",
    "handle = Entrez.efetch(db=\"biosample\", id=biosample_id, rettype=\"xml\", retmode=\"text\") \n",
    "xml_data = handle.read()\n",
    "handle.close()\n",
    "\n",
    "root = ET.fromstring(xml_data) #xml to string conversion\n"
   ]
  },
  {
   "cell_type": "code",
   "execution_count": 14,
   "metadata": {},
   "outputs": [],
   "source": [
    "#able to extract information from biosample database \n",
    "attributes = root.findall(\".//Attributes/Attribute\")\n",
    "geo_dict = {} #dict to later make into a dataframe\n",
    "if attributes:\n",
    "    for attribute in attributes:\n",
    "        attribute_name = attribute.attrib.get(\"attribute_name\") #getting the name of attribute \n",
    "        #print(attribute_name)\n",
    "        attribute_value = attribute.text # the value of the atrribute \n",
    "        #print(attribute_value)\n",
    "        if attribute_name == 'geo_loc_name': #getting the location of strain\n",
    "            geo_dict['Sample ID'] = biosample_id\n",
    "            geo_dict['Geographic Location'] = attribute_value\n",
    "            continue\n",
    "        elif attribute_name == 'isolation_source': #getting information of strain isolation \n",
    "            geo_dict['Isolation Source'] = attribute_value\n",
    "            continue \n",
    "        elif attribute_name == 'strain': #getting strain name of bacteria\n",
    "            geo_dict['Strain'] = attribute_value\n",
    "\n",
    "    # adding None if information is not avalialbe \n",
    "    if 'Sample ID' not in geo_dict:\n",
    "        geo_dict['Sample ID'] = biosample_id   \n",
    "    if 'Geographic Location' not in geo_dict:\n",
    "        geo_dict['Geographic Location'] = \"None\"\n",
    "    if 'Isolation Source' not in geo_dict:\n",
    "        geo_dict['Isolation Source'] = 'None'\n",
    "    if 'Strain' not in geo_dict:\n",
    "        geo_dict['Strain'] = 'None'\n",
    "        \n",
    "\n",
    "#geo_dict\n"
   ]
  },
  {
   "cell_type": "code",
   "execution_count": 15,
   "metadata": {},
   "outputs": [
    {
     "data": {
      "text/plain": [
       "692"
      ]
     },
     "execution_count": 15,
     "metadata": {},
     "output_type": "execute_result"
    }
   ],
   "source": [
    "#open the biosample id \n",
    "bio_df = pd.read_csv('../biosample analysis/data_summary.tsv', sep='\\t',encoding='utf-8')\n",
    "biosample_id_list = bio_df['BioSample'].tolist() #list of all ~600 bacteria strains\n",
    "#biosample_id_list \n",
    "len(biosample_id_list)"
   ]
  },
  {
   "cell_type": "code",
   "execution_count": 16,
   "metadata": {},
   "outputs": [],
   "source": [
    "#creating a function to get attributes \n",
    "def attribute(biosample_id): #must be BioSample ID\n",
    "\n",
    "    xml_data = False\n",
    "    while xml_data is False:\n",
    "        try:\n",
    "            #wait so that we don't get an error from ncbi \n",
    "            time.sleep(1)\n",
    "            \n",
    "            # Fetch the Biosample data in XML format\n",
    "            handle = Entrez.efetch(db=\"biosample\", id=biosample_id, rettype=\"xml\", retmode=\"text\") \n",
    "            xml_data = handle.read()\n",
    "            handle.close()\n",
    "        except:\n",
    "            print('error with', biosample_id)\n",
    "\n",
    "    root = ET.fromstring(xml_data) #xml to string conversion\n",
    "    attributes = root.findall(\".//Attributes/Attribute\")\n",
    "    \n",
    "    return(attributes) #give you the attrbutes assoitated with the strain"
   ]
  },
  {
   "cell_type": "code",
   "execution_count": null,
   "metadata": {},
   "outputs": [],
   "source": [
    "attr = attribute('biosample id')\n"
   ]
  },
  {
   "cell_type": "code",
   "execution_count": 7,
   "metadata": {},
   "outputs": [],
   "source": [
    "#creating function to create geo_dict \n",
    "\n",
    "def geo(attributes, biosample_id): #we need the attributes for the strain and the strain's biosample id\n",
    "    geo_dict = {} #dict to later make into a dataframe\n",
    "    if attributes:\n",
    "        for attribute in attributes:\n",
    "            attribute_name = attribute.attrib.get(\"attribute_name\") #getting the name of attribute \n",
    "            #print(attribute_name)\n",
    "            attribute_value = attribute.text # the value of the atrribute \n",
    "            #print(attribute_value)\n",
    "            if attribute_name == 'geo_loc_name': #getting the location of strain\n",
    "                geo_dict['Sample ID'] = biosample_id\n",
    "                geo_dict['Geographic Location'] = attribute_value\n",
    "                continue\n",
    "            elif attribute_name == 'isolation_source': #getting information of strain isolation \n",
    "                geo_dict['Isolation Source'] = attribute_value\n",
    "                continue \n",
    "            elif attribute_name == 'strain': #getting strain name of bacteria\n",
    "                geo_dict['Strain'] = attribute_value\n",
    "    # adding None if information is not avaliable \n",
    "    if 'Sample ID' not in geo_dict:\n",
    "        geo_dict['Sample ID'] = biosample_id   \n",
    "    if 'Geographic Location' not in geo_dict:\n",
    "        geo_dict['Geographic Location'] = \"None\"\n",
    "    if 'Isolation Source' not in geo_dict:\n",
    "        geo_dict['Isolation Source'] = 'None'\n",
    "    if 'Strain' not in geo_dict:\n",
    "        geo_dict['Strain'] = 'None'\n",
    "    \n",
    "    return(geo_dict)\n"
   ]
  },
  {
   "cell_type": "code",
   "execution_count": null,
   "metadata": {},
   "outputs": [
    {
     "data": {
      "text/plain": [
       "{'Strain': 'KGMB02009',\n",
       " 'Sample ID': 'SAMN18309827',\n",
       " 'Geographic Location': 'South Korea:Gyeonggi-do, Seongnam-si',\n",
       " 'Isolation Source': 'None'}"
      ]
     },
     "execution_count": 19,
     "metadata": {},
     "output_type": "execute_result"
    }
   ],
   "source": [
    "geo(attr,'biosample id')"
   ]
  },
  {
   "cell_type": "code",
   "execution_count": null,
   "metadata": {},
   "outputs": [],
   "source": [
    "# for loop to generate dictionaries for each ID\n",
    "# start with an empty dataframe with keys that match for columns\n",
    "# geo_loc_df = pd.DataFrame()\n",
    "\n",
    "for bio_id in biosample_id_list:\n",
    "    # Generate a dictionary for the current ID\n",
    "    attr = attribute(bio_id)\n",
    "    geo_loc = geo(attr, bio_id)\n",
    "    # add row to dataframe based on keys for geo_loc\n",
    "    print(geo_loc)"
   ]
  }
 ],
 "metadata": {
  "kernelspec": {
   "display_name": "Python 3.11.0 64-bit",
   "language": "python",
   "name": "python3"
  },
  "language_info": {
   "codemirror_mode": {
    "name": "ipython",
    "version": 3
   },
   "file_extension": ".py",
   "mimetype": "text/x-python",
   "name": "python",
   "nbconvert_exporter": "python",
   "pygments_lexer": "ipython3",
   "version": "3.11.0"
  },
  "orig_nbformat": 4,
  "vscode": {
   "interpreter": {
    "hash": "aee8b7b246df8f9039afb4144a1f6fd8d2ca17a180786b69acc140d282b71a49"
   }
  }
 },
 "nbformat": 4,
 "nbformat_minor": 2
}
