{
 "cells": [
  {
   "cell_type": "code",
   "execution_count": null,
   "metadata": {},
   "outputs": [],
   "source": [
    "import pandas as pd\n",
    "import matplotlib.pyplot as plt\n",
    "import seaborn as sns"
   ]
  },
  {
   "cell_type": "code",
   "execution_count": null,
   "metadata": {},
   "outputs": [],
   "source": [
    "df = pd.read_csv('../bubble chart/not_present_in_strain.csv')\n",
    "df"
   ]
  },
  {
   "cell_type": "code",
   "execution_count": null,
   "metadata": {},
   "outputs": [],
   "source": [
    "df['Pathway(s)']"
   ]
  },
  {
   "cell_type": "code",
   "execution_count": null,
   "metadata": {},
   "outputs": [],
   "source": [
    "#cleaning up column to make it into a list\n",
    "pathway_class = df['Pathway(s)'].tolist()\n",
    "str_path =[]\n",
    "for x in pathway_class:\n",
    "    str_path.append(str(x))\n",
    "    \n",
    "clean_path = []\n",
    "for path in str_path:\n",
    "    path = path.replace('\\t', '').split('\\n')\n",
    "    clean_path.append(path)\n",
    "\n",
    "clean = sum(clean_path, [])\n",
    "clean"
   ]
  },
  {
   "cell_type": "code",
   "execution_count": null,
   "metadata": {},
   "outputs": [],
   "source": [
    "df_class = pd.DataFrame(clean, columns = ['Class'])\n",
    "df_class"
   ]
  },
  {
   "cell_type": "code",
   "execution_count": null,
   "metadata": {},
   "outputs": [],
   "source": [
    "df_class = df_class.replace({'': 'unknown'})\n",
    "df_class"
   ]
  },
  {
   "cell_type": "code",
   "execution_count": null,
   "metadata": {},
   "outputs": [],
   "source": [
    "\"\"\" df_class = df_class.replace({'','Unknown'})\n",
    "df_class \"\"\""
   ]
  },
  {
   "cell_type": "code",
   "execution_count": null,
   "metadata": {},
   "outputs": [],
   "source": [
    "df2 = df_class.sort_values('Class')\n",
    "df2_group = df2['Class'].value_counts() #grouping each class and counting it\n",
    "df2_group.to_excel('not_present_groups.xlsx')"
   ]
  },
  {
   "cell_type": "code",
   "execution_count": null,
   "metadata": {},
   "outputs": [],
   "source": [
    "df2_group = df2_group.reset_index()\n",
    "df2_group.columns = ['Class', 'Count']\n",
    "df2_group.to_excel('ahhh.xlsx')"
   ]
  },
  {
   "cell_type": "code",
   "execution_count": null,
   "metadata": {},
   "outputs": [],
   "source": [
    "df2_group"
   ]
  },
  {
   "cell_type": "code",
   "execution_count": null,
   "metadata": {},
   "outputs": [],
   "source": [
    "#setting index as class\n",
    "data = df2_group.set_index(['Class'])\n",
    "\n",
    "data_filtered = data[data['Count'] > 1]\n",
    "\n",
    "#plotting \n",
    "fig, ax = plt.subplots(figsize=(30, 6))\n",
    "data_filtered.plot(kind='bar', ax=ax, color ='g')\n",
    "\n",
    "plt.xlabel('Pathways Not Present', fontsize=14)  # Set x-axis title and font size\n",
    "plt.ylabel('Count', fontsize=14)  # Set y-axis title and font size\n",
    "plt.title('Mean Proportion of Pathway-Specific Proteins Missing in the Entire Collection of Akkermansia Genomes', fontsize=16)  # Set title and font size\n",
    "\n",
    "# Tilt the y-axis labels and set font size\n",
    "ax.set_yticklabels(ax.get_yticklabels(), rotation=45, fontsize=12)\n",
    "\n",
    "# Increase rotation angle for x-axis tick labels to avoid overlapping\n",
    "ax.set_xticklabels(ax.get_xticklabels(), rotation=85, fontsize=12)\n",
    "\n",
    "plt.show()"
   ]
  },
  {
   "cell_type": "code",
   "execution_count": null,
   "metadata": {},
   "outputs": [],
   "source": []
  }
 ],
 "metadata": {
  "kernelspec": {
   "display_name": "Python 3.11.0 64-bit",
   "language": "python",
   "name": "python3"
  },
  "language_info": {
   "codemirror_mode": {
    "name": "ipython",
    "version": 3
   },
   "file_extension": ".py",
   "mimetype": "text/x-python",
   "name": "python",
   "nbconvert_exporter": "python",
   "pygments_lexer": "ipython3",
   "version": "3.11.0"
  },
  "orig_nbformat": 4,
  "vscode": {
   "interpreter": {
    "hash": "aee8b7b246df8f9039afb4144a1f6fd8d2ca17a180786b69acc140d282b71a49"
   }
  }
 },
 "nbformat": 4,
 "nbformat_minor": 2
}
