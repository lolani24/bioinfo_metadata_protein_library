{
 "cells": [
  {
   "cell_type": "code",
   "execution_count": null,
   "metadata": {},
   "outputs": [],
   "source": [
    "import os \n",
    "import shutil\n",
    "from glob import glob\n",
    "from distutils.dir_util import copy_tree"
   ]
  },
  {
   "cell_type": "code",
   "execution_count": null,
   "metadata": {},
   "outputs": [],
   "source": [
    "os.getcwd()"
   ]
  },
  {
   "cell_type": "code",
   "execution_count": null,
   "metadata": {},
   "outputs": [],
   "source": [
    "os.chdir('../ncbi_dataset')"
   ]
  },
  {
   "cell_type": "code",
   "execution_count": null,
   "metadata": {},
   "outputs": [],
   "source": [
    "files = os.listdir('../ncbi_dataset/data')\n",
    "path = '../ncbi_dataset/data'\n",
    "path_way = [] #getting the path way to get to the folder of each genomes \n",
    "for x in files:\n",
    "    second_path = os.path.join(path, x)\n",
    "    path_way.append(second_path)\n",
    "\n",
    "path_way"
   ]
  },
  {
   "cell_type": "code",
   "execution_count": null,
   "metadata": {},
   "outputs": [],
   "source": [
    "no_protein = [] #gives me names of genome files that don't have protein files\n",
    "protein = [] #gives me names of genome files that have protein files \n",
    "for gene in path_way:\n",
    "    genome_file = os.listdir(gene)\n",
    "    if 'protein.faa' in genome_file:\n",
    "       protein.append( gene[-15:])\n",
    "    else:\n",
    "        no_protein.append(gene[-15:])\n",
    "    "
   ]
  },
  {
   "cell_type": "code",
   "execution_count": null,
   "metadata": {},
   "outputs": [],
   "source": [
    "len(protein)"
   ]
  },
  {
   "cell_type": "code",
   "execution_count": null,
   "metadata": {},
   "outputs": [],
   "source": [
    "len(no_protein)"
   ]
  },
  {
   "cell_type": "code",
   "execution_count": null,
   "metadata": {},
   "outputs": [],
   "source": [
    "#copying genome files with no protein in one folder\n",
    "start_path = 'ncbi_dataset/data/'\n",
    "no_protein_folder = 'no_protein_folder'\n",
    "for x in no_protein:\n",
    "    new_path = os.path.join(start_path,x)\n",
    "    #try:\n",
    "    #    os.makedirs(no_protein_folder, exist_ok=True)\n",
    "    #except FileExistsError:\n",
    "    destination = copy_tree(new_path, no_protein_folder)\n",
    "    #print(destination)\n",
    "print('finish')"
   ]
  },
  {
   "cell_type": "code",
   "execution_count": null,
   "metadata": {},
   "outputs": [],
   "source": [
    "start_path = 'ncbi_dataset/data/'\n",
    "protein_folder = 'protein_folder'\n",
    "for nam in protein:\n",
    "    protein_path = os.path.join(start_path,nam+'/protein.faa')\n",
    "    #print(protein_path)\n",
    "    rename_path = start_path+nam+'/'+nam[:13]+'_protein.faa'\n",
    "    #print(rename_path)\n",
    "    #rename = os.rename(protein_path, rename_path)\n",
    "    #try:\n",
    "    #    os.makedirs(no_protein_folder, exist_ok=True)\n",
    "    #except FileExistsError:\n",
    "    original_protein_path = os.path.join(start_path,nam)\n",
    "    print(original_protein_path)\n",
    "    destination = copy_tree(original_protein_path, protein_folder)\n",
    "    #print(destination)\n",
    "print('finish')"
   ]
  },
  {
   "cell_type": "code",
   "execution_count": null,
   "metadata": {},
   "outputs": [],
   "source": [
    "import matplotlib.pyplot as plt\n",
    "\n",
    "protein = 466\n",
    "no_protein = 218 \n",
    "total_files = protein + no_protein\n",
    "\n",
    "plt.bar('Present Protein File', protein, color ='g')\n",
    "plt.bar('No Protein File Present', no_protein, color = 'b')\n",
    "\n",
    "\n",
    "plt.ylabel('Number of Files')\n",
    "plt.title('Protein Sequences in Genome')\n",
    "#plt.legend(['Protein Files Present In Genome', 'No Protein Files Present In Genome'])\n",
    "\n",
    "plt.show()"
   ]
  }
 ],
 "metadata": {
  "kernelspec": {
   "display_name": "Python 3.11.0 64-bit",
   "language": "python",
   "name": "python3"
  },
  "language_info": {
   "codemirror_mode": {
    "name": "ipython",
    "version": 3
   },
   "file_extension": ".py",
   "mimetype": "text/x-python",
   "name": "python",
   "nbconvert_exporter": "python",
   "pygments_lexer": "ipython3",
   "version": "3.11.0"
  },
  "orig_nbformat": 4,
  "vscode": {
   "interpreter": {
    "hash": "aee8b7b246df8f9039afb4144a1f6fd8d2ca17a180786b69acc140d282b71a49"
   }
  }
 },
 "nbformat": 4,
 "nbformat_minor": 2
}
