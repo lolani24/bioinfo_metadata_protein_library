{
 "cells": [
  {
   "cell_type": "code",
   "execution_count": 2,
   "id": "5bdb1015",
   "metadata": {},
   "outputs": [
    {
     "data": {
      "text/html": [
       "<div>\n",
       "<style scoped>\n",
       "    .dataframe tbody tr th:only-of-type {\n",
       "        vertical-align: middle;\n",
       "    }\n",
       "\n",
       "    .dataframe tbody tr th {\n",
       "        vertical-align: top;\n",
       "    }\n",
       "\n",
       "    .dataframe thead th {\n",
       "        text-align: right;\n",
       "    }\n",
       "</style>\n",
       "<table border=\"1\" class=\"dataframe\">\n",
       "  <thead>\n",
       "    <tr style=\"text-align: right;\">\n",
       "      <th></th>\n",
       "      <th>id</th>\n",
       "      <th>seq</th>\n",
       "    </tr>\n",
       "  </thead>\n",
       "  <tbody>\n",
       "    <tr>\n",
       "      <th>0</th>\n",
       "      <td>&gt;CP071807.1_Akkermansia_muciniphila_ATCC_BAA-8...</td>\n",
       "      <td>AAATCTTATAAAATAACCACATAACTTAAAAAGAATTATGCGGATT...</td>\n",
       "    </tr>\n",
       "  </tbody>\n",
       "</table>\n",
       "</div>"
      ],
      "text/plain": [
       "                                                  id  \\\n",
       "0  >CP071807.1_Akkermansia_muciniphila_ATCC_BAA-8...   \n",
       "\n",
       "                                                 seq  \n",
       "0  AAATCTTATAAAATAACCACATAACTTAAAAAGAATTATGCGGATT...  "
      ]
     },
     "execution_count": 2,
     "metadata": {},
     "output_type": "execute_result"
    }
   ],
   "source": [
    "import pandas as pd\n",
    "\n",
    "file1 = open('../ncbi_dataset_ATCC_BAA_835/data/GCA_000020225.1/GCA_000020225.1_ASM2022v1_genomic.fna','r')\n",
    "lines_i = file1.readlines()\n",
    "\n",
    "ids = []\n",
    "seq = []\n",
    "\n",
    "\n",
    "for l in range(len(lines_i)):\n",
    "    if lines_i[l][0]=='>':\n",
    "        id_str = lines_i[l].split(' ')[0]\n",
    "        id_str = lines_i[l].replace(' ', '_')\n",
    "        id_str = id_str.replace('\\n', '')\n",
    "        id_str = id_str.replace(';', '')\n",
    "        ids.append(id_str)\n",
    "\n",
    "        count = 1\n",
    "        seq_str = ''\n",
    "        while (l+count)<len(lines_i):\n",
    "            if '>' in lines_i[l+count]:\n",
    "                break\n",
    "            else:\n",
    "                seq_str = seq_str + lines_i[l+count].replace('\\n','')\n",
    "                count +=1\n",
    "\n",
    "        seq.append(seq_str)\n",
    "    file1.close()\n",
    "\n",
    "database_seqs = pd.DataFrame(columns = ['id', 'seq'])\n",
    "database_seqs['id'] = ids\n",
    "database_seqs['seq'] = seq\n",
    "\n",
    "database_seqs"
   ]
  },
  {
   "cell_type": "code",
   "execution_count": 7,
   "id": "b22c40c9",
   "metadata": {},
   "outputs": [],
   "source": [
    "#df=database_seqs[database_seqs['seq'].str.startswith('AA')]\n",
    "#df\n",
    "\n",
    "#file = open('CDRH3_AR.fasta', 'w')\n",
    "\n",
    "#line1=[]\n",
    "#for i, row in df.iterrows():\n",
    "#        line1.append(row['id']+'\\n'+row['seq']+'\\n')\n",
    "#        #print(lines)\n",
    "#file.writelines(line1)\n",
    "#file.close()"
   ]
  },
  {
   "cell_type": "code",
   "execution_count": 8,
   "id": "d4e5e9be",
   "metadata": {},
   "outputs": [],
   "source": [
    "#df"
   ]
  }
 ],
 "metadata": {
  "kernelspec": {
   "display_name": "Python 3.11.0 64-bit",
   "language": "python",
   "name": "python3"
  },
  "language_info": {
   "codemirror_mode": {
    "name": "ipython",
    "version": 3
   },
   "file_extension": ".py",
   "mimetype": "text/x-python",
   "name": "python",
   "nbconvert_exporter": "python",
   "pygments_lexer": "ipython3",
   "version": "3.11.0"
  },
  "vscode": {
   "interpreter": {
    "hash": "aee8b7b246df8f9039afb4144a1f6fd8d2ca17a180786b69acc140d282b71a49"
   }
  }
 },
 "nbformat": 4,
 "nbformat_minor": 5
}
